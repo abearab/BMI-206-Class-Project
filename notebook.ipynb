{
 "cells": [
  {
   "cell_type": "markdown",
   "metadata": {},
   "source": [
    "## BMI-206 Course Project\n",
    "### Group 3 \n",
    "#### Members:\n",
    "- \n",
    "- \n",
    "-\n"
   ]
  },
  {
   "cell_type": "code",
   "execution_count": 2,
   "metadata": {},
   "outputs": [],
   "source": [
    "import pandas as pd\n",
    "from glob import glob\n",
    "import os"
   ]
  },
  {
   "cell_type": "markdown",
   "metadata": {},
   "source": [
    "### GWAS data and analysis\n",
    "[issue link](https://github.com/abearab/BMI-206-Class-Project/issues/2)"
   ]
  },
  {
   "cell_type": "markdown",
   "metadata": {},
   "source": [
    "#### Fig 4.a. (GWAS Manhattan plot by @IJbeasley)\n",
    "\n",
    "\n",
    "<img src=\"figures/t1d_uk_bb.h.filt.fig4a.png\" align=\"center\"/>"
   ]
  },
  {
   "cell_type": "code",
   "execution_count": null,
   "metadata": {},
   "outputs": [],
   "source": []
  },
  {
   "cell_type": "code",
   "execution_count": null,
   "metadata": {},
   "outputs": [],
   "source": []
  },
  {
   "cell_type": "markdown",
   "metadata": {},
   "source": [
    "### Single-cell data and analysis\n",
    "[issue link](https://github.com/abearab/BMI-206-Class-Project/issues/3)"
   ]
  },
  {
   "cell_type": "code",
   "execution_count": null,
   "metadata": {},
   "outputs": [],
   "source": []
  },
  {
   "cell_type": "code",
   "execution_count": null,
   "metadata": {},
   "outputs": [],
   "source": []
  },
  {
   "cell_type": "markdown",
   "metadata": {},
   "source": [
    "___\n",
    "R Scripts"
   ]
  },
  {
   "cell_type": "code",
   "execution_count": null,
   "metadata": {},
   "outputs": [],
   "source": [
    "# suppressMessages(suppressWarnings(library('SCENT')))\n",
    "# suppressMessages(suppressWarnings(library('Seurat')))\n",
    "# suppressMessages(suppressWarnings(library('SingleCellExperiment')))\n",
    "# suppressMessages(suppressWarnings(library('tidyverse')))\n",
    "# suppressMessages(suppressWarnings(library('anndata')))"
   ]
  },
  {
   "cell_type": "code",
   "execution_count": null,
   "metadata": {},
   "outputs": [],
   "source": [
    "# library('Matrix')"
   ]
  },
  {
   "cell_type": "code",
   "execution_count": null,
   "metadata": {},
   "outputs": [],
   "source": [
    "# # Create SingleCellExperiment objects that points to on-disk H5AD file\n",
    "# rna_h5ad_file = 'data/GSE243917_genesXcells_ALL_raw.h5ad'\n",
    "# atac_h5ad_file = 'data/GSE243917_peaksXcells_ALL_raw.h5ad'\n",
    "\n",
    "# rna <- anndata::read_h5ad(rna_h5ad_file)\n",
    "# atac <- anndata::read_h5ad(atac_h5ad_file)\n",
    "\n",
    "# # Convert to dgCMatrix using Matrix package\n",
    "# rna$X <- Matrix(rna$X, \"dgCMatrix\")\n",
    "# atac$X <- Matrix(atac$X, \"dgCMatrix\")"
   ]
  },
  {
   "cell_type": "code",
   "execution_count": null,
   "metadata": {},
   "outputs": [],
   "source": [
    "# SCENT_obj <- SCENT::CreateSCENTObj(\n",
    "#     rna = rna$X,\n",
    "#     atac = atac$X,\n",
    "#     meta.data = rna$obs,\n",
    "#     peak.info = atac$obs,\n",
    "#     covariates = c(\"log(nUMI)\",\"percent.mito\",\"sample\", \"batch\"), \n",
    "#     celltypes = \"ct\" # cell type column\n",
    "# )"
   ]
  },
  {
   "cell_type": "markdown",
   "metadata": {},
   "source": [
    "___"
   ]
  },
  {
   "cell_type": "code",
   "execution_count": 15,
   "metadata": {},
   "outputs": [],
   "source": [
    "res_1 = pd.read_csv('data/zoe-scent-results/500kb_Tcell_allcvar.txt.gz', sep=' ')"
   ]
  },
  {
   "cell_type": "code",
   "execution_count": 16,
   "metadata": {},
   "outputs": [
    {
     "data": {
      "text/html": [
       "<div>\n",
       "<style scoped>\n",
       "    .dataframe tbody tr th:only-of-type {\n",
       "        vertical-align: middle;\n",
       "    }\n",
       "\n",
       "    .dataframe tbody tr th {\n",
       "        vertical-align: top;\n",
       "    }\n",
       "\n",
       "    .dataframe thead th {\n",
       "        text-align: right;\n",
       "    }\n",
       "</style>\n",
       "<table border=\"1\" class=\"dataframe\">\n",
       "  <thead>\n",
       "    <tr style=\"text-align: right;\">\n",
       "      <th></th>\n",
       "      <th>gene</th>\n",
       "      <th>peak</th>\n",
       "      <th>beta</th>\n",
       "      <th>se</th>\n",
       "      <th>z</th>\n",
       "      <th>p</th>\n",
       "      <th>boot_basic_p</th>\n",
       "    </tr>\n",
       "  </thead>\n",
       "  <tbody>\n",
       "    <tr>\n",
       "      <th>0</th>\n",
       "      <td>TP53BP2</td>\n",
       "      <td>chr1:223831938-223832138</td>\n",
       "      <td>0.332012</td>\n",
       "      <td>0.037937</td>\n",
       "      <td>8.751728</td>\n",
       "      <td>2.101095e-18</td>\n",
       "      <td>0.00004</td>\n",
       "    </tr>\n",
       "    <tr>\n",
       "      <th>1</th>\n",
       "      <td>TP53BP2</td>\n",
       "      <td>chr1:223844015-223844215</td>\n",
       "      <td>0.371481</td>\n",
       "      <td>0.052382</td>\n",
       "      <td>7.091813</td>\n",
       "      <td>1.323664e-12</td>\n",
       "      <td>0.00004</td>\n",
       "    </tr>\n",
       "    <tr>\n",
       "      <th>2</th>\n",
       "      <td>TP53BP2</td>\n",
       "      <td>chr1:223844854-223845054</td>\n",
       "      <td>-0.075517</td>\n",
       "      <td>0.066909</td>\n",
       "      <td>-1.128651</td>\n",
       "      <td>2.590452e-01</td>\n",
       "      <td>0.52000</td>\n",
       "    </tr>\n",
       "    <tr>\n",
       "      <th>3</th>\n",
       "      <td>TP53BP2</td>\n",
       "      <td>chr1:223845439-223845639</td>\n",
       "      <td>-0.104341</td>\n",
       "      <td>0.041429</td>\n",
       "      <td>-2.518541</td>\n",
       "      <td>1.178421e-02</td>\n",
       "      <td>0.06400</td>\n",
       "    </tr>\n",
       "    <tr>\n",
       "      <th>4</th>\n",
       "      <td>TP53BP2</td>\n",
       "      <td>chr1:223846024-223846224</td>\n",
       "      <td>0.032122</td>\n",
       "      <td>0.033096</td>\n",
       "      <td>0.970561</td>\n",
       "      <td>3.317668e-01</td>\n",
       "      <td>0.40000</td>\n",
       "    </tr>\n",
       "    <tr>\n",
       "      <th>...</th>\n",
       "      <td>...</td>\n",
       "      <td>...</td>\n",
       "      <td>...</td>\n",
       "      <td>...</td>\n",
       "      <td>...</td>\n",
       "      <td>...</td>\n",
       "      <td>...</td>\n",
       "    </tr>\n",
       "    <tr>\n",
       "      <th>212331</th>\n",
       "      <td>UBE4B</td>\n",
       "      <td>chr1:9689394-9689594</td>\n",
       "      <td>-0.046080</td>\n",
       "      <td>0.044965</td>\n",
       "      <td>-1.024800</td>\n",
       "      <td>3.054577e-01</td>\n",
       "      <td>0.26000</td>\n",
       "    </tr>\n",
       "    <tr>\n",
       "      <th>212332</th>\n",
       "      <td>UBE4B</td>\n",
       "      <td>chr1:9717672-9717872</td>\n",
       "      <td>-0.030496</td>\n",
       "      <td>0.048532</td>\n",
       "      <td>-0.628367</td>\n",
       "      <td>5.297634e-01</td>\n",
       "      <td>0.64000</td>\n",
       "    </tr>\n",
       "    <tr>\n",
       "      <th>212333</th>\n",
       "      <td>UBE4B</td>\n",
       "      <td>chr1:9719171-9719371</td>\n",
       "      <td>0.130396</td>\n",
       "      <td>0.084853</td>\n",
       "      <td>1.536725</td>\n",
       "      <td>1.243607e-01</td>\n",
       "      <td>0.22000</td>\n",
       "    </tr>\n",
       "    <tr>\n",
       "      <th>212334</th>\n",
       "      <td>UBE4B</td>\n",
       "      <td>chr1:9721845-9722045</td>\n",
       "      <td>-0.075218</td>\n",
       "      <td>0.073692</td>\n",
       "      <td>-1.020716</td>\n",
       "      <td>3.073892e-01</td>\n",
       "      <td>0.38000</td>\n",
       "    </tr>\n",
       "    <tr>\n",
       "      <th>212335</th>\n",
       "      <td>UBE4B</td>\n",
       "      <td>chr1:9725101-9725301</td>\n",
       "      <td>-0.122513</td>\n",
       "      <td>0.069326</td>\n",
       "      <td>-1.767207</td>\n",
       "      <td>7.719355e-02</td>\n",
       "      <td>0.20000</td>\n",
       "    </tr>\n",
       "  </tbody>\n",
       "</table>\n",
       "<p>212336 rows × 7 columns</p>\n",
       "</div>"
      ],
      "text/plain": [
       "           gene                      peak      beta        se         z  \\\n",
       "0       TP53BP2  chr1:223831938-223832138  0.332012  0.037937  8.751728   \n",
       "1       TP53BP2  chr1:223844015-223844215  0.371481  0.052382  7.091813   \n",
       "2       TP53BP2  chr1:223844854-223845054 -0.075517  0.066909 -1.128651   \n",
       "3       TP53BP2  chr1:223845439-223845639 -0.104341  0.041429 -2.518541   \n",
       "4       TP53BP2  chr1:223846024-223846224  0.032122  0.033096  0.970561   \n",
       "...         ...                       ...       ...       ...       ...   \n",
       "212331    UBE4B      chr1:9689394-9689594 -0.046080  0.044965 -1.024800   \n",
       "212332    UBE4B      chr1:9717672-9717872 -0.030496  0.048532 -0.628367   \n",
       "212333    UBE4B      chr1:9719171-9719371  0.130396  0.084853  1.536725   \n",
       "212334    UBE4B      chr1:9721845-9722045 -0.075218  0.073692 -1.020716   \n",
       "212335    UBE4B      chr1:9725101-9725301 -0.122513  0.069326 -1.767207   \n",
       "\n",
       "                   p  boot_basic_p  \n",
       "0       2.101095e-18       0.00004  \n",
       "1       1.323664e-12       0.00004  \n",
       "2       2.590452e-01       0.52000  \n",
       "3       1.178421e-02       0.06400  \n",
       "4       3.317668e-01       0.40000  \n",
       "...              ...           ...  \n",
       "212331  3.054577e-01       0.26000  \n",
       "212332  5.297634e-01       0.64000  \n",
       "212333  1.243607e-01       0.22000  \n",
       "212334  3.073892e-01       0.38000  \n",
       "212335  7.719355e-02       0.20000  \n",
       "\n",
       "[212336 rows x 7 columns]"
      ]
     },
     "execution_count": 16,
     "metadata": {},
     "output_type": "execute_result"
    }
   ],
   "source": [
    "res_1"
   ]
  },
  {
   "cell_type": "code",
   "execution_count": null,
   "metadata": {},
   "outputs": [],
   "source": []
  },
  {
   "cell_type": "code",
   "execution_count": null,
   "metadata": {},
   "outputs": [],
   "source": []
  },
  {
   "cell_type": "code",
   "execution_count": null,
   "metadata": {},
   "outputs": [],
   "source": []
  },
  {
   "cell_type": "code",
   "execution_count": null,
   "metadata": {},
   "outputs": [],
   "source": []
  },
  {
   "cell_type": "markdown",
   "metadata": {},
   "source": [
    "___\n",
    "preprocessed files from the SCENT paper:"
   ]
  },
  {
   "cell_type": "code",
   "execution_count": 3,
   "metadata": {},
   "outputs": [],
   "source": [
    "files = [\n",
    "    (os.path.basename(file).replace('_allqced_bootpkg_nopc_allCT.FDR0.10.txt.gz',''), file)\n",
    "    for file in glob('data/enhancer-gene-links-from-the-paper/*.txt.gz')\n",
    "]"
   ]
  },
  {
   "cell_type": "code",
   "execution_count": 4,
   "metadata": {},
   "outputs": [
    {
     "name": "stdout",
     "output_type": "stream",
     "text": [
      "NEAT (1206, 9)\n",
      "SHARE (243, 9)\n",
      "Arthritis-tissue (47527, 9)\n",
      "Pituitary (3014, 9)\n",
      "NeurIPS (5135, 9)\n",
      "Brain (14935, 9)\n",
      "Dogma (10834, 9)\n",
      "Pubic-PBMC (16574, 9)\n"
     ]
    }
   ],
   "source": [
    "dfs = dict([\n",
    "    (name, pd.read_csv(file, sep='\\t', header=0))\n",
    "    for name, file in files\n",
    "])\n",
    "for name, df in dfs.items():\n",
    "    print(name, df.shape)\n",
    "    df.insert(df.shape[-1], column='source', value=name)\n",
    "    dfs[name] = df"
   ]
  },
  {
   "cell_type": "code",
   "execution_count": 5,
   "metadata": {},
   "outputs": [],
   "source": [
    "df = pd.concat(dfs.values())"
   ]
  },
  {
   "cell_type": "code",
   "execution_count": 6,
   "metadata": {},
   "outputs": [
    {
     "data": {
      "text/html": [
       "<div>\n",
       "<style scoped>\n",
       "    .dataframe tbody tr th:only-of-type {\n",
       "        vertical-align: middle;\n",
       "    }\n",
       "\n",
       "    .dataframe tbody tr th {\n",
       "        vertical-align: top;\n",
       "    }\n",
       "\n",
       "    .dataframe thead th {\n",
       "        text-align: right;\n",
       "    }\n",
       "</style>\n",
       "<table border=\"1\" class=\"dataframe\">\n",
       "  <thead>\n",
       "    <tr style=\"text-align: right;\">\n",
       "      <th></th>\n",
       "      <th>gene</th>\n",
       "      <th>peak</th>\n",
       "      <th>beta</th>\n",
       "      <th>se</th>\n",
       "      <th>z</th>\n",
       "      <th>p</th>\n",
       "      <th>boot_p</th>\n",
       "      <th>fdr</th>\n",
       "      <th>celltype</th>\n",
       "      <th>source</th>\n",
       "    </tr>\n",
       "  </thead>\n",
       "  <tbody>\n",
       "    <tr>\n",
       "      <th>0</th>\n",
       "      <td>ABCB1</td>\n",
       "      <td>chr7-87628077-87628577</td>\n",
       "      <td>0.500706</td>\n",
       "      <td>0.053585</td>\n",
       "      <td>9.344141</td>\n",
       "      <td>9.263862e-21</td>\n",
       "      <td>0.00004</td>\n",
       "      <td>0.004394</td>\n",
       "      <td>CD4T</td>\n",
       "      <td>NEAT</td>\n",
       "    </tr>\n",
       "    <tr>\n",
       "      <th>1</th>\n",
       "      <td>ABCB1</td>\n",
       "      <td>chr7-87933922-87934422</td>\n",
       "      <td>0.365729</td>\n",
       "      <td>0.061718</td>\n",
       "      <td>5.925819</td>\n",
       "      <td>3.107441e-09</td>\n",
       "      <td>0.00024</td>\n",
       "      <td>0.020356</td>\n",
       "      <td>CD4T</td>\n",
       "      <td>NEAT</td>\n",
       "    </tr>\n",
       "    <tr>\n",
       "      <th>2</th>\n",
       "      <td>ABCC4</td>\n",
       "      <td>chr13-95185812-95186312</td>\n",
       "      <td>0.725145</td>\n",
       "      <td>0.127990</td>\n",
       "      <td>5.665620</td>\n",
       "      <td>1.464936e-08</td>\n",
       "      <td>0.00004</td>\n",
       "      <td>0.004394</td>\n",
       "      <td>CD4T</td>\n",
       "      <td>NEAT</td>\n",
       "    </tr>\n",
       "    <tr>\n",
       "      <th>3</th>\n",
       "      <td>ABCG1</td>\n",
       "      <td>chr21-42228010-42228510</td>\n",
       "      <td>0.258218</td>\n",
       "      <td>0.061930</td>\n",
       "      <td>4.169491</td>\n",
       "      <td>3.052810e-05</td>\n",
       "      <td>0.00064</td>\n",
       "      <td>0.044259</td>\n",
       "      <td>CD4T</td>\n",
       "      <td>NEAT</td>\n",
       "    </tr>\n",
       "    <tr>\n",
       "      <th>4</th>\n",
       "      <td>ACBD3</td>\n",
       "      <td>chr1-225924103-225924603</td>\n",
       "      <td>0.228162</td>\n",
       "      <td>0.064049</td>\n",
       "      <td>3.562334</td>\n",
       "      <td>3.675717e-04</td>\n",
       "      <td>0.00120</td>\n",
       "      <td>0.070984</td>\n",
       "      <td>CD4T</td>\n",
       "      <td>NEAT</td>\n",
       "    </tr>\n",
       "    <tr>\n",
       "      <th>...</th>\n",
       "      <td>...</td>\n",
       "      <td>...</td>\n",
       "      <td>...</td>\n",
       "      <td>...</td>\n",
       "      <td>...</td>\n",
       "      <td>...</td>\n",
       "      <td>...</td>\n",
       "      <td>...</td>\n",
       "      <td>...</td>\n",
       "      <td>...</td>\n",
       "    </tr>\n",
       "    <tr>\n",
       "      <th>16569</th>\n",
       "      <td>ZSWIM6</td>\n",
       "      <td>chr5-60943494-60944082</td>\n",
       "      <td>0.119328</td>\n",
       "      <td>0.021409</td>\n",
       "      <td>5.573621</td>\n",
       "      <td>2.494979e-08</td>\n",
       "      <td>0.00112</td>\n",
       "      <td>0.059858</td>\n",
       "      <td>Myeloid</td>\n",
       "      <td>Pubic-PBMC</td>\n",
       "    </tr>\n",
       "    <tr>\n",
       "      <th>16570</th>\n",
       "      <td>ZSWIM6</td>\n",
       "      <td>chr5-61341984-61342536</td>\n",
       "      <td>0.182571</td>\n",
       "      <td>0.027120</td>\n",
       "      <td>6.731941</td>\n",
       "      <td>1.674150e-11</td>\n",
       "      <td>0.00012</td>\n",
       "      <td>0.011692</td>\n",
       "      <td>Myeloid</td>\n",
       "      <td>Pubic-PBMC</td>\n",
       "    </tr>\n",
       "    <tr>\n",
       "      <th>16571</th>\n",
       "      <td>ZZEF1</td>\n",
       "      <td>chr17-3720012-3720728</td>\n",
       "      <td>0.174540</td>\n",
       "      <td>0.051049</td>\n",
       "      <td>3.419049</td>\n",
       "      <td>6.284035e-04</td>\n",
       "      <td>0.00168</td>\n",
       "      <td>0.076966</td>\n",
       "      <td>Myeloid</td>\n",
       "      <td>Pubic-PBMC</td>\n",
       "    </tr>\n",
       "    <tr>\n",
       "      <th>16572</th>\n",
       "      <td>ZZEF1</td>\n",
       "      <td>chr17-3913851-3914611</td>\n",
       "      <td>0.155127</td>\n",
       "      <td>0.043049</td>\n",
       "      <td>3.603474</td>\n",
       "      <td>3.139924e-04</td>\n",
       "      <td>0.00060</td>\n",
       "      <td>0.038451</td>\n",
       "      <td>Myeloid</td>\n",
       "      <td>Pubic-PBMC</td>\n",
       "    </tr>\n",
       "    <tr>\n",
       "      <th>16573</th>\n",
       "      <td>ZZEF1</td>\n",
       "      <td>chr17-4554623-4556019</td>\n",
       "      <td>0.137696</td>\n",
       "      <td>0.039669</td>\n",
       "      <td>3.471093</td>\n",
       "      <td>5.183443e-04</td>\n",
       "      <td>0.00120</td>\n",
       "      <td>0.062462</td>\n",
       "      <td>Myeloid</td>\n",
       "      <td>Pubic-PBMC</td>\n",
       "    </tr>\n",
       "  </tbody>\n",
       "</table>\n",
       "<p>99468 rows × 10 columns</p>\n",
       "</div>"
      ],
      "text/plain": [
       "         gene                      peak      beta        se         z  \\\n",
       "0       ABCB1    chr7-87628077-87628577  0.500706  0.053585  9.344141   \n",
       "1       ABCB1    chr7-87933922-87934422  0.365729  0.061718  5.925819   \n",
       "2       ABCC4   chr13-95185812-95186312  0.725145  0.127990  5.665620   \n",
       "3       ABCG1   chr21-42228010-42228510  0.258218  0.061930  4.169491   \n",
       "4       ACBD3  chr1-225924103-225924603  0.228162  0.064049  3.562334   \n",
       "...       ...                       ...       ...       ...       ...   \n",
       "16569  ZSWIM6    chr5-60943494-60944082  0.119328  0.021409  5.573621   \n",
       "16570  ZSWIM6    chr5-61341984-61342536  0.182571  0.027120  6.731941   \n",
       "16571   ZZEF1     chr17-3720012-3720728  0.174540  0.051049  3.419049   \n",
       "16572   ZZEF1     chr17-3913851-3914611  0.155127  0.043049  3.603474   \n",
       "16573   ZZEF1     chr17-4554623-4556019  0.137696  0.039669  3.471093   \n",
       "\n",
       "                  p   boot_p       fdr celltype      source  \n",
       "0      9.263862e-21  0.00004  0.004394     CD4T        NEAT  \n",
       "1      3.107441e-09  0.00024  0.020356     CD4T        NEAT  \n",
       "2      1.464936e-08  0.00004  0.004394     CD4T        NEAT  \n",
       "3      3.052810e-05  0.00064  0.044259     CD4T        NEAT  \n",
       "4      3.675717e-04  0.00120  0.070984     CD4T        NEAT  \n",
       "...             ...      ...       ...      ...         ...  \n",
       "16569  2.494979e-08  0.00112  0.059858  Myeloid  Pubic-PBMC  \n",
       "16570  1.674150e-11  0.00012  0.011692  Myeloid  Pubic-PBMC  \n",
       "16571  6.284035e-04  0.00168  0.076966  Myeloid  Pubic-PBMC  \n",
       "16572  3.139924e-04  0.00060  0.038451  Myeloid  Pubic-PBMC  \n",
       "16573  5.183443e-04  0.00120  0.062462  Myeloid  Pubic-PBMC  \n",
       "\n",
       "[99468 rows x 10 columns]"
      ]
     },
     "execution_count": 6,
     "metadata": {},
     "output_type": "execute_result"
    }
   ],
   "source": [
    "df"
   ]
  },
  {
   "cell_type": "code",
   "execution_count": null,
   "metadata": {},
   "outputs": [
    {
     "name": "stderr",
     "output_type": "stream",
     "text": [
      "/pollard/home/aabe/miniconda3/envs/SCENT/lib/python3.12/site-packages/pandas/core/arraylike.py:399: RuntimeWarning: divide by zero encountered in log10\n",
      "  result = getattr(ufunc, method)(*inputs, **kwargs)\n"
     ]
    },
    {
     "data": {
      "image/png": "[encoded data removed]",
      "text/plain": [
       "<Figure size 640x480 with 2 Axes>"
      ]
     },
     "metadata": {},
     "output_type": "display_data"
    }
   ],
   "source": [
    "# draw volcano plot of z vs -log10(p) and color by source\n",
    "import matplotlib.pyplot as plt\n",
    "import numpy as np\n",
    "from scipy.stats import norm\n",
    "\n",
    "df['-log10(p)'] = -np.log10(df['p'])\n",
    "df.plot.scatter(x='z', y='-log10(p)', alpha=0.5, c=df['source'].astype('category').cat.codes, cmap='tab20')\n",
    "\n",
    "plt.show()"
   ]
  },
  {
   "cell_type": "markdown",
   "metadata": {},
   "source": [
    "### Enrichment analysis\n",
    "[issue link](https://github.com/abearab/BMI-206-Class-Project/issues/5)"
   ]
  },
  {
   "cell_type": "markdown",
   "metadata": {},
   "source": [
    "**Aim:** Causal variant enrichment analysis\n",
    "\n",
    "**Tasks:**\n",
    "- [ ] Reimplement enrichment analysis similar to the SCENT paper\n",
    "- [ ] "
   ]
  },
  {
   "cell_type": "markdown",
   "metadata": {},
   "source": [
    "___\n",
    "> To replicate and expand upon the paper’s disease enrichment analysis of the causal variants identified with SCENT, we will create a set of disease causal variants by filtering the FinnGen fine-mapping results for the most reliable identified fine-mapped traits (e.g., number of case > 1,000) and variants (high purity of casual sets). \n",
    "\n",
    "> To evaluate the SCENT’s outcome, Sakaue et al. defined and evaluated causal enrichment for GWAS, eQTLs, caQTL or other ground truth resources such as bulk or single-cell-based enhancer–gene maps (Fig 3, S6-S8). We found this as a useful part of the paper to focus on for more in-depth statistical analysis. We will implement a “causal variant enrichment analysis” formula through custom codes in R or python. As we move forward, we will decide what exact analysis we can perform. We have lots of examples from the sub-figures but we can also go beyond that, for instance we can evaluate what are the effects of changing covariates in the SCENT pipeline.\n"
   ]
  },
  {
   "cell_type": "code",
   "execution_count": null,
   "metadata": {},
   "outputs": [],
   "source": []
  },
  {
   "cell_type": "code",
   "execution_count": null,
   "metadata": {},
   "outputs": [],
   "source": []
  },
  {
   "cell_type": "code",
   "execution_count": null,
   "metadata": {},
   "outputs": [],
   "source": []
  },
  {
   "cell_type": "code",
   "execution_count": null,
   "metadata": {},
   "outputs": [],
   "source": []
  },
  {
   "cell_type": "markdown",
   "metadata": {},
   "source": [
    "###"
   ]
  },
  {
   "cell_type": "markdown",
   "metadata": {},
   "source": []
  },
  {
   "cell_type": "code",
   "execution_count": 15,
   "metadata": {},
   "outputs": [
    {
     "name": "stdout",
     "output_type": "stream",
     "text": [
      "Last updated: 2024-11-19T11:31:04.324646-08:00\n",
      "\n",
      "Python implementation: CPython\n",
      "Python version       : 3.12.7\n",
      "IPython version      : 8.29.0\n",
      "\n",
      "Compiler    : GCC 13.3.0\n",
      "OS          : Linux\n",
      "Release     : 4.18.0-477.27.1.el8_8.x86_64\n",
      "Machine     : x86_64\n",
      "Processor   : x86_64\n",
      "CPU cores   : 64\n",
      "Architecture: 64bit\n",
      "\n",
      "pandas: 2.2.3\n",
      "\n"
     ]
    }
   ],
   "source": [
    "%reload_ext watermark\n",
    "%watermark\n",
    "%watermark --iversions"
   ]
  }
 ],
 "metadata": {
  "kernelspec": {
   "display_name": "SCENT",
   "language": "python",
   "name": "python3"
  },
  "language_info": {
   "codemirror_mode": {
    "name": "ipython",
    "version": 3
   },
   "file_extension": ".py",
   "mimetype": "text/x-python",
   "name": "python",
   "nbconvert_exporter": "python",
   "pygments_lexer": "ipython3",
   "version": "3.12.7"
  }
 },
 "nbformat": 4,
 "nbformat_minor": 2
}
