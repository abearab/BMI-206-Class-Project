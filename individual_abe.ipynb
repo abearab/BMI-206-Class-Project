{
 "cells": [
  {
   "cell_type": "markdown",
   "metadata": {},
   "source": [
    "## BMI-206 Course Individual Project\n",
    "- Abolfazl (Abe) Arab"
   ]
  },
  {
   "cell_type": "markdown",
   "metadata": {},
   "source": [
    "___\n",
    "**Project plan**\n",
    "\n",
    "In bioinformatics it’s common to have different tools for the same task. Generally, the main task we are working on is identifying cell-type specific casual enhancer-gene relationships inferred from the multi-modal mRNA and ATAC single-cell sequencing data. In addition to the SCENT approach as a peak-gene association inference method, there is a preprint that introduced the scMultiMap (Su et al., 2024) method – I found this method through searching the paper in which they cited SCENT paper. They claim to outperform in run-time (computational cost is less than 1% of SCENT and other existing methods) and statistical power. For instance, in systematic analyses of blood and brain data, scMultiMap shows appropriate type I error control, high statistical power with greater reproducibility across independent datasets and stronger consistency with orthogonal data modalities.\n",
    "\n",
    "I will aim to apply it to the original single-cell datasets introduced in the SCENT paper. Then, I will evaluate the enhancers and target gene maps in disease-related cell types by using causal genetic variants in the genome-wide association studies (GWAS) as gold-labels. In our group project we aimed to perform more in-depth evaluations on the GWAS datasets and I will take advantage of our lessons there to extract a curated set of variants to evaluate scMultiMap outputs. Finally, I will implement a “causal variant enrichment analysis” formula through custom codes in R or python to reproduce similar analysis as described in the SCENT paper. As we move forward, we will decide what exact analysis we can perform. We have lots of examples from the sub-figures but we can also go beyond that, for instance we can evaluate what are the effects of changing covariates in the SCENT pipeline.\n",
    "\n",
    "References:\n",
    "- https://www.biorxiv.org/content/10.1101/2024.09.24.614814v1.full \n",
    "- https://changsubiostats.github.io/scMultiMap/articles/scMultiMap.html \n",
    "\n",
    "___"
   ]
  },
  {
   "cell_type": "code",
   "execution_count": null,
   "metadata": {},
   "outputs": [],
   "source": [
    "# !conda install -y bioconda::bioconductor-ensdb.hsapiens.v86\n",
    "# !conda install -y bioconda::bioconductor-bsgenome.hsapiens.ucsc.hg38\n",
    "# !conda install -y bioconda::bioconductor-biovizbase"
   ]
  },
  {
   "cell_type": "code",
   "execution_count": 1,
   "metadata": {},
   "outputs": [],
   "source": [
    "%load_ext rpy2.ipython"
   ]
  },
  {
   "cell_type": "code",
   "execution_count": 3,
   "metadata": {},
   "outputs": [],
   "source": [
    "%%R\n",
    "library('scMultiMap')\n",
    "library('SCENT')\n",
    "library('Signac')\n",
    "library('Seurat')\n",
    "library(EnsDb.Hsapiens.v86)\n",
    "library(BSgenome.Hsapiens.UCSC.hg38)"
   ]
  },
  {
   "cell_type": "code",
   "execution_count": 4,
   "metadata": {},
   "outputs": [
    {
     "name": "stdout",
     "output_type": "stream",
     "text": [
      "  |                                                  | 0 % ~calculating   |++                                                | 4 % ~50s           |++++                                              | 8 % ~44s           |++++++                                            | 12% ~56s           |++++++++                                          | 16% ~55s           |++++++++++                                        | 20% ~51s           |++++++++++++                                      | 24% ~47s           |++++++++++++++                                    | 28% ~49s           |++++++++++++++++                                  | 32% ~45s           |++++++++++++++++++                                | 36% ~41s           |++++++++++++++++++++                              | 40% ~38s           |++++++++++++++++++++++                            | 44% ~37s           |++++++++++++++++++++++++                          | 48% ~34s           |++++++++++++++++++++++++++                        | 52% ~31s           |++++++++++++++++++++++++++++                      | 56% ~28s           |++++++++++++++++++++++++++++++                    | 60% ~25s           |++++++++++++++++++++++++++++++++                  | 64% ~22s           |++++++++++++++++++++++++++++++++++                | 68% ~19s           |++++++++++++++++++++++++++++++++++++              | 72% ~17s           |++++++++++++++++++++++++++++++++++++++            | 76% ~14s           |++++++++++++++++++++++++++++++++++++++++          | 80% ~12s           |++++++++++++++++++++++++++++++++++++++++++        | 84% ~09s           |++++++++++++++++++++++++++++++++++++++++++++      | 88% ~07s           |++++++++++++++++++++++++++++++++++++++++++++++    | 92% ~04s           |++++++++++++++++++++++++++++++++++++++++++++++++  | 96% ~02s           |++++++++++++++++++++++++++++++++++++++++++++++++++| 100% elapsed=53s  \n"
     ]
    },
    {
     "data": {
      "text/plain": [
       "In addition: There were 24 warnings (use warnings() to see them)\n"
      ]
     },
     "metadata": {},
     "output_type": "display_data"
    }
   ],
   "source": [
    "%%R\n",
    "annotation <- GetGRangesFromEnsDb(ensdb = EnsDb.Hsapiens.v86)"
   ]
  },
  {
   "cell_type": "code",
   "execution_count": 5,
   "metadata": {},
   "outputs": [
    {
     "name": "stdout",
     "output_type": "stream",
     "text": [
      "GRanges object with 3021151 ranges and 5 metadata columns:\n",
      "                  seqnames        ranges strand |           tx_id   gene_name\n",
      "                     <Rle>     <IRanges>  <Rle> |     <character> <character>\n",
      "  ENSE00001489430        X 276322-276394      + | ENST00000399012      PLCXD1\n",
      "  ENSE00001536003        X 276324-276394      + | ENST00000484611      PLCXD1\n",
      "  ENSE00002160563        X 276353-276394      + | ENST00000430923      PLCXD1\n",
      "  ENSE00001750899        X 281055-281121      + | ENST00000445062      PLCXD1\n",
      "  ENSE00001489388        X 281192-281684      + | ENST00000381657      PLCXD1\n",
      "              ...      ...           ...    ... .             ...         ...\n",
      "  ENST00000361739       MT     7586-8269      + | ENST00000361739      MT-CO2\n",
      "  ENST00000361789       MT   14747-15887      + | ENST00000361789      MT-CYB\n",
      "  ENST00000361851       MT     8366-8572      + | ENST00000361851     MT-ATP8\n",
      "  ENST00000361899       MT     8527-9207      + | ENST00000361899     MT-ATP6\n",
      "  ENST00000362079       MT     9207-9990      + | ENST00000362079      MT-CO3\n",
      "                          gene_id   gene_biotype     type\n",
      "                      <character>    <character> <factor>\n",
      "  ENSE00001489430 ENSG00000182378 protein_coding     exon\n",
      "  ENSE00001536003 ENSG00000182378 protein_coding     exon\n",
      "  ENSE00002160563 ENSG00000182378 protein_coding     exon\n",
      "  ENSE00001750899 ENSG00000182378 protein_coding     exon\n",
      "  ENSE00001489388 ENSG00000182378 protein_coding     exon\n",
      "              ...             ...            ...      ...\n",
      "  ENST00000361739 ENSG00000198712 protein_coding      cds\n",
      "  ENST00000361789 ENSG00000198727 protein_coding      cds\n",
      "  ENST00000361851 ENSG00000228253 protein_coding      cds\n",
      "  ENST00000361899 ENSG00000198899 protein_coding      cds\n",
      "  ENST00000362079 ENSG00000198938 protein_coding      cds\n",
      "  -------\n",
      "  seqinfo: 25 sequences (1 circular) from GRCh38 genome\n"
     ]
    }
   ],
   "source": [
    "%%R\n",
    "annotation"
   ]
  },
  {
   "cell_type": "code",
   "execution_count": 6,
   "metadata": {},
   "outputs": [],
   "source": [
    "%%R\n",
    "readRDS('data/sc-datasets/SCENT_obj_all.rds') -> SCENT_obj_all"
   ]
  },
  {
   "cell_type": "code",
   "execution_count": 8,
   "metadata": {},
   "outputs": [],
   "source": [
    "# %%R\n",
    "# readRDS('data/sc-datasets/atac_matrix.rds') -> atac_matrix\n",
    "# readRDS('data/sc-datasets/rna_matrix.rds') -> rna_matrix"
   ]
  },
  {
   "cell_type": "code",
   "execution_count": 9,
   "metadata": {},
   "outputs": [],
   "source": [
    "%%R\n",
    "CreateSeuratObject(counts = SCENT_obj_all@rna, assay = \"RNA\", project = \"BMI206\") -> rna"
   ]
  },
  {
   "cell_type": "code",
   "execution_count": 36,
   "metadata": {},
   "outputs": [
    {
     "name": "stdout",
     "output_type": "stream",
     "text": [
      "An object of class Seurat \n",
      "36601 features across 31547 samples within 1 assay \n",
      "Active assay: RNA (36601 features, 0 variable features)\n",
      " 1 layer present: counts\n"
     ]
    }
   ],
   "source": [
    "%%R\n",
    "rna"
   ]
  },
  {
   "cell_type": "code",
   "execution_count": 11,
   "metadata": {},
   "outputs": [],
   "source": [
    "# %%R\n",
    "# CreateSeuratObject(counts = SCENT_obj_all@atac, assay = \"ATAC\", project = \"BMI206\") -> atac"
   ]
  },
  {
   "cell_type": "code",
   "execution_count": 12,
   "metadata": {},
   "outputs": [],
   "source": [
    "# %%R\n",
    "# atac"
   ]
  },
  {
   "cell_type": "markdown",
   "metadata": {},
   "source": [
    "___"
   ]
  },
  {
   "cell_type": "code",
   "execution_count": 16,
   "metadata": {},
   "outputs": [],
   "source": [
    "# %%R\n",
    "# fragpath = ''"
   ]
  },
  {
   "cell_type": "code",
   "execution_count": 30,
   "metadata": {},
   "outputs": [],
   "source": [
    "%%R\n",
    "data <- rna\n",
    "\n",
    "data[['peak']] <- CreateChromatinAssay(\n",
    "  counts = SCENT_obj_all@atac,\n",
    "  sep = c(\":\", \"-\"),\n",
    "  annotation = annotation,\n",
    "  # fragments = fragpath,\n",
    "  # genome = 'hg38'\n",
    ")"
   ]
  },
  {
   "cell_type": "code",
   "execution_count": 31,
   "metadata": {},
   "outputs": [
    {
     "name": "stdout",
     "output_type": "stream",
     "text": [
      "5 x 5 sparse Matrix of class \"dgCMatrix\"\n",
      "                   BRI-1281_AAACAGCCAATTTGGT BRI-1281_AAACAGCCAGCACCAT\n",
      "chr1-817238-817438                         .                         .\n",
      "chr1-827432-827632                         .                         .\n",
      "chr1-869776-869976                         .                         .\n",
      "chr1-904365-904565                         .                         .\n",
      "chr1-904661-904861                         .                         .\n",
      "                   BRI-1281_AAACATGCAGGCTAGA BRI-1281_AAACATGCATGCTTAG\n",
      "chr1-817238-817438                         .                         .\n",
      "chr1-827432-827632                         .                         .\n",
      "chr1-869776-869976                         .                         .\n",
      "chr1-904365-904565                         .                         .\n",
      "chr1-904661-904861                         .                         .\n",
      "                   BRI-1281_AAACATGCATTGCAGC\n",
      "chr1-817238-817438                         .\n",
      "chr1-827432-827632                         .\n",
      "chr1-869776-869976                         .\n",
      "chr1-904365-904565                         .\n",
      "chr1-904661-904861                         .\n"
     ]
    }
   ],
   "source": [
    "%%R\n",
    "data@assays$peak['counts'][1:5, 1:5]"
   ]
  },
  {
   "cell_type": "code",
   "execution_count": 32,
   "metadata": {},
   "outputs": [
    {
     "name": "stdout",
     "output_type": "stream",
     "text": [
      "ChromatinAssay data with 132520 features for 31547 cells\n",
      "Variable features: 0 \n",
      "Genome: \n",
      "Annotation present: TRUE \n",
      "Motifs present: FALSE \n",
      "Fragment files: 0 \n"
     ]
    }
   ],
   "source": [
    "%%R\n",
    "data$peak"
   ]
  },
  {
   "cell_type": "code",
   "execution_count": 33,
   "metadata": {},
   "outputs": [],
   "source": [
    "%%R\n",
    "pairs_df <- get_top_peak_gene_pairs(data,\n",
    "                                    gene_top=20000,\n",
    "                                    peak_top=60000,\n",
    "                                    distance = 5e+7,\n",
    "                                    gene_assay = 'RNA', peak_assay = 'peak')"
   ]
  },
  {
   "cell_type": "code",
   "execution_count": 34,
   "metadata": {},
   "outputs": [
    {
     "name": "stdout",
     "output_type": "stream",
     "text": [
      "[1] gene peak\n",
      "<0 rows> (or 0-length row.names)\n"
     ]
    }
   ],
   "source": [
    "%%R\n",
    "pairs_df"
   ]
  },
  {
   "cell_type": "markdown",
   "metadata": {},
   "source": [
    "I'm not sure why `pairs_df` is empty. I will try to debug it!"
   ]
  }
 ],
 "metadata": {
  "kernelspec": {
   "display_name": "SCENT",
   "language": "python",
   "name": "python3"
  },
  "language_info": {
   "codemirror_mode": {
    "name": "ipython",
    "version": 3
   },
   "file_extension": ".py",
   "mimetype": "text/x-python",
   "name": "python",
   "nbconvert_exporter": "python",
   "pygments_lexer": "ipython3",
   "version": "3.12.7"
  }
 },
 "nbformat": 4,
 "nbformat_minor": 2
}
